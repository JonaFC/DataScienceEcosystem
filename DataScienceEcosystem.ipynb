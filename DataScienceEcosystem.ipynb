{
 "cells": [
  {
   "cell_type": "markdown",
   "id": "8de1873c-16e1-44c2-a4bb-25e9cc55efac",
   "metadata": {},
   "source": [
    "# Data Science Tools and Ecosystem\n"
   ]
  },
  {
   "cell_type": "markdown",
   "id": "1324b3f0-ba61-4927-a7c1-782edfe1f3e6",
   "metadata": {},
   "source": [
    "## In this notebook, Data Science Tools and Ecosystem are summarized.\n"
   ]
  },
  {
   "cell_type": "markdown",
   "id": "1d173dc3-c667-47f4-81b5-a290091f188f",
   "metadata": {},
   "source": [
    "**Objectives:**\n",
    "- List some pupular languages\n",
    "- List some popular libreries\n",
    "- arithmetic expressions "
   ]
  },
  {
   "cell_type": "markdown",
   "id": "b6749678-a35b-436e-9d56-1432185055c1",
   "metadata": {},
   "source": [
    "### Some of the popular languages that Data Scientists use are:\n",
    "1. Python\n",
    "2. R\n",
    "3. Julia\n",
    "4. Scala"
   ]
  },
  {
   "cell_type": "markdown",
   "id": "6a631a2c-05ff-4b52-8d1b-2c0dee0f1b5b",
   "metadata": {},
   "source": [
    "## Some of the commonly used libraries used by Data Scientists include:\n",
    "1. ggplot\n",
    "2. caret\n",
    "3. dplyr\n",
    "4. Pandas\n"
   ]
  },
  {
   "cell_type": "markdown",
   "id": "7125cb97-5bf4-450d-8799-129048f03fca",
   "metadata": {},
   "source": [
    "| Data Science Tools  |\n",
    "|---|\n",
    "|Git|\n",
    "|Gitlab|\n",
    "|GoogleColab|"
   ]
  },
  {
   "cell_type": "markdown",
   "id": "88c95a3f-059f-4193-a515-3eca1274aaf6",
   "metadata": {},
   "source": [
    "### Below are a few examples of evaluating arithmetic expressions in Python.\n",
    "$$x = \\frac{-b \\pm \\sqrt{b^2 - 4ac}}{2a}$$\n",
    "\n",
    "$$E=mc^2$$"
   ]
  },
  {
   "cell_type": "code",
   "execution_count": 5,
   "id": "44d07903-88df-4512-8f1f-969a4de55dc4",
   "metadata": {},
   "outputs": [
    {
     "data": {
      "text/plain": [
       "17"
      ]
     },
     "execution_count": 5,
     "metadata": {},
     "output_type": "execute_result"
    }
   ],
   "source": [
    "# This a simple arithmetic expression to mutiply then add integers\n",
    "(3*4)+5"
   ]
  },
  {
   "cell_type": "code",
   "execution_count": 6,
   "id": "19b6182a-6e56-448a-b0a9-f67552b3cf50",
   "metadata": {},
   "outputs": [
    {
     "name": "stdout",
     "output_type": "stream",
     "text": [
      "200 minuts =  3.3333333333333335 hours.\n"
     ]
    }
   ],
   "source": [
    "# This will convert 200 minutes to hours by diving by 60\n",
    "print(200,\"minuts = \",(200/60),\"hours.\")"
   ]
  },
  {
   "cell_type": "markdown",
   "id": "d8afe80e-da6d-44ad-bdc9-a8a0d10e4a7c",
   "metadata": {},
   "source": [
    "**Objectives:**"
   ]
  },
  {
   "cell_type": "markdown",
   "id": "1f6c1271-400a-4d21-8af6-2b5c9702b643",
   "metadata": {},
   "source": [
    "## Author:\n",
    "Arte Misa"
   ]
  },
  {
   "cell_type": "code",
   "execution_count": null,
   "id": "928931b8-07bf-4dcd-83b9-ce6a7e53ad76",
   "metadata": {},
   "outputs": [],
   "source": []
  }
 ],
 "metadata": {
  "kernelspec": {
   "display_name": "Python 3 (ipykernel)",
   "language": "python",
   "name": "python3"
  },
  "language_info": {
   "codemirror_mode": {
    "name": "ipython",
    "version": 3
   },
   "file_extension": ".py",
   "mimetype": "text/x-python",
   "name": "python",
   "nbconvert_exporter": "python",
   "pygments_lexer": "ipython3",
   "version": "3.12.8"
  }
 },
 "nbformat": 4,
 "nbformat_minor": 5
}
